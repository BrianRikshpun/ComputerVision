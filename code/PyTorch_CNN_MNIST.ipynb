{
  "nbformat": 4,
  "nbformat_minor": 0,
  "metadata": {
    "colab": {
      "provenance": [],
      "collapsed_sections": []
    },
    "kernelspec": {
      "name": "python3",
      "display_name": "Python 3"
    },
    "accelerator": "GPU",
    "gpuClass": "standard",
    "widgets": {
      "application/vnd.jupyter.widget-state+json": {
        "ae14eaf5b0454f9e8cac79c71e222d30": {
          "model_module": "@jupyter-widgets/controls",
          "model_name": "HBoxModel",
          "model_module_version": "1.5.0",
          "state": {
            "_dom_classes": [],
            "_model_module": "@jupyter-widgets/controls",
            "_model_module_version": "1.5.0",
            "_model_name": "HBoxModel",
            "_view_count": null,
            "_view_module": "@jupyter-widgets/controls",
            "_view_module_version": "1.5.0",
            "_view_name": "HBoxView",
            "box_style": "",
            "children": [
              "IPY_MODEL_4236d11521ce4d2381325af5b0e0338a",
              "IPY_MODEL_d48e022a28a44e94bd48b3e93dc349d1",
              "IPY_MODEL_5ce4bd48ce7944008209edddb86048cf"
            ],
            "layout": "IPY_MODEL_d6814fb30e7a404db6e5906e9e229d93"
          }
        },
        "4236d11521ce4d2381325af5b0e0338a": {
          "model_module": "@jupyter-widgets/controls",
          "model_name": "HTMLModel",
          "model_module_version": "1.5.0",
          "state": {
            "_dom_classes": [],
            "_model_module": "@jupyter-widgets/controls",
            "_model_module_version": "1.5.0",
            "_model_name": "HTMLModel",
            "_view_count": null,
            "_view_module": "@jupyter-widgets/controls",
            "_view_module_version": "1.5.0",
            "_view_name": "HTMLView",
            "description": "",
            "description_tooltip": null,
            "layout": "IPY_MODEL_a275962d2e5c42978c925f52e0d52586",
            "placeholder": "​",
            "style": "IPY_MODEL_c530dd890cfb4275983b4e938609d39c",
            "value": "100%"
          }
        },
        "d48e022a28a44e94bd48b3e93dc349d1": {
          "model_module": "@jupyter-widgets/controls",
          "model_name": "FloatProgressModel",
          "model_module_version": "1.5.0",
          "state": {
            "_dom_classes": [],
            "_model_module": "@jupyter-widgets/controls",
            "_model_module_version": "1.5.0",
            "_model_name": "FloatProgressModel",
            "_view_count": null,
            "_view_module": "@jupyter-widgets/controls",
            "_view_module_version": "1.5.0",
            "_view_name": "ProgressView",
            "bar_style": "success",
            "description": "",
            "description_tooltip": null,
            "layout": "IPY_MODEL_be29133338df495ebf75c69e887d14e3",
            "max": 9912422,
            "min": 0,
            "orientation": "horizontal",
            "style": "IPY_MODEL_9745dea8b30b42fdb71ca74c86a3cebc",
            "value": 9912422
          }
        },
        "5ce4bd48ce7944008209edddb86048cf": {
          "model_module": "@jupyter-widgets/controls",
          "model_name": "HTMLModel",
          "model_module_version": "1.5.0",
          "state": {
            "_dom_classes": [],
            "_model_module": "@jupyter-widgets/controls",
            "_model_module_version": "1.5.0",
            "_model_name": "HTMLModel",
            "_view_count": null,
            "_view_module": "@jupyter-widgets/controls",
            "_view_module_version": "1.5.0",
            "_view_name": "HTMLView",
            "description": "",
            "description_tooltip": null,
            "layout": "IPY_MODEL_59a6c7e8c0384597a7672f28a2cd5cfa",
            "placeholder": "​",
            "style": "IPY_MODEL_479ca7ecb9444239b1ba7bbff1084e2d",
            "value": " 9912422/9912422 [00:00&lt;00:00, 28215537.79it/s]"
          }
        },
        "d6814fb30e7a404db6e5906e9e229d93": {
          "model_module": "@jupyter-widgets/base",
          "model_name": "LayoutModel",
          "model_module_version": "1.2.0",
          "state": {
            "_model_module": "@jupyter-widgets/base",
            "_model_module_version": "1.2.0",
            "_model_name": "LayoutModel",
            "_view_count": null,
            "_view_module": "@jupyter-widgets/base",
            "_view_module_version": "1.2.0",
            "_view_name": "LayoutView",
            "align_content": null,
            "align_items": null,
            "align_self": null,
            "border": null,
            "bottom": null,
            "display": null,
            "flex": null,
            "flex_flow": null,
            "grid_area": null,
            "grid_auto_columns": null,
            "grid_auto_flow": null,
            "grid_auto_rows": null,
            "grid_column": null,
            "grid_gap": null,
            "grid_row": null,
            "grid_template_areas": null,
            "grid_template_columns": null,
            "grid_template_rows": null,
            "height": null,
            "justify_content": null,
            "justify_items": null,
            "left": null,
            "margin": null,
            "max_height": null,
            "max_width": null,
            "min_height": null,
            "min_width": null,
            "object_fit": null,
            "object_position": null,
            "order": null,
            "overflow": null,
            "overflow_x": null,
            "overflow_y": null,
            "padding": null,
            "right": null,
            "top": null,
            "visibility": null,
            "width": null
          }
        },
        "a275962d2e5c42978c925f52e0d52586": {
          "model_module": "@jupyter-widgets/base",
          "model_name": "LayoutModel",
          "model_module_version": "1.2.0",
          "state": {
            "_model_module": "@jupyter-widgets/base",
            "_model_module_version": "1.2.0",
            "_model_name": "LayoutModel",
            "_view_count": null,
            "_view_module": "@jupyter-widgets/base",
            "_view_module_version": "1.2.0",
            "_view_name": "LayoutView",
            "align_content": null,
            "align_items": null,
            "align_self": null,
            "border": null,
            "bottom": null,
            "display": null,
            "flex": null,
            "flex_flow": null,
            "grid_area": null,
            "grid_auto_columns": null,
            "grid_auto_flow": null,
            "grid_auto_rows": null,
            "grid_column": null,
            "grid_gap": null,
            "grid_row": null,
            "grid_template_areas": null,
            "grid_template_columns": null,
            "grid_template_rows": null,
            "height": null,
            "justify_content": null,
            "justify_items": null,
            "left": null,
            "margin": null,
            "max_height": null,
            "max_width": null,
            "min_height": null,
            "min_width": null,
            "object_fit": null,
            "object_position": null,
            "order": null,
            "overflow": null,
            "overflow_x": null,
            "overflow_y": null,
            "padding": null,
            "right": null,
            "top": null,
            "visibility": null,
            "width": null
          }
        },
        "c530dd890cfb4275983b4e938609d39c": {
          "model_module": "@jupyter-widgets/controls",
          "model_name": "DescriptionStyleModel",
          "model_module_version": "1.5.0",
          "state": {
            "_model_module": "@jupyter-widgets/controls",
            "_model_module_version": "1.5.0",
            "_model_name": "DescriptionStyleModel",
            "_view_count": null,
            "_view_module": "@jupyter-widgets/base",
            "_view_module_version": "1.2.0",
            "_view_name": "StyleView",
            "description_width": ""
          }
        },
        "be29133338df495ebf75c69e887d14e3": {
          "model_module": "@jupyter-widgets/base",
          "model_name": "LayoutModel",
          "model_module_version": "1.2.0",
          "state": {
            "_model_module": "@jupyter-widgets/base",
            "_model_module_version": "1.2.0",
            "_model_name": "LayoutModel",
            "_view_count": null,
            "_view_module": "@jupyter-widgets/base",
            "_view_module_version": "1.2.0",
            "_view_name": "LayoutView",
            "align_content": null,
            "align_items": null,
            "align_self": null,
            "border": null,
            "bottom": null,
            "display": null,
            "flex": null,
            "flex_flow": null,
            "grid_area": null,
            "grid_auto_columns": null,
            "grid_auto_flow": null,
            "grid_auto_rows": null,
            "grid_column": null,
            "grid_gap": null,
            "grid_row": null,
            "grid_template_areas": null,
            "grid_template_columns": null,
            "grid_template_rows": null,
            "height": null,
            "justify_content": null,
            "justify_items": null,
            "left": null,
            "margin": null,
            "max_height": null,
            "max_width": null,
            "min_height": null,
            "min_width": null,
            "object_fit": null,
            "object_position": null,
            "order": null,
            "overflow": null,
            "overflow_x": null,
            "overflow_y": null,
            "padding": null,
            "right": null,
            "top": null,
            "visibility": null,
            "width": null
          }
        },
        "9745dea8b30b42fdb71ca74c86a3cebc": {
          "model_module": "@jupyter-widgets/controls",
          "model_name": "ProgressStyleModel",
          "model_module_version": "1.5.0",
          "state": {
            "_model_module": "@jupyter-widgets/controls",
            "_model_module_version": "1.5.0",
            "_model_name": "ProgressStyleModel",
            "_view_count": null,
            "_view_module": "@jupyter-widgets/base",
            "_view_module_version": "1.2.0",
            "_view_name": "StyleView",
            "bar_color": null,
            "description_width": ""
          }
        },
        "59a6c7e8c0384597a7672f28a2cd5cfa": {
          "model_module": "@jupyter-widgets/base",
          "model_name": "LayoutModel",
          "model_module_version": "1.2.0",
          "state": {
            "_model_module": "@jupyter-widgets/base",
            "_model_module_version": "1.2.0",
            "_model_name": "LayoutModel",
            "_view_count": null,
            "_view_module": "@jupyter-widgets/base",
            "_view_module_version": "1.2.0",
            "_view_name": "LayoutView",
            "align_content": null,
            "align_items": null,
            "align_self": null,
            "border": null,
            "bottom": null,
            "display": null,
            "flex": null,
            "flex_flow": null,
            "grid_area": null,
            "grid_auto_columns": null,
            "grid_auto_flow": null,
            "grid_auto_rows": null,
            "grid_column": null,
            "grid_gap": null,
            "grid_row": null,
            "grid_template_areas": null,
            "grid_template_columns": null,
            "grid_template_rows": null,
            "height": null,
            "justify_content": null,
            "justify_items": null,
            "left": null,
            "margin": null,
            "max_height": null,
            "max_width": null,
            "min_height": null,
            "min_width": null,
            "object_fit": null,
            "object_position": null,
            "order": null,
            "overflow": null,
            "overflow_x": null,
            "overflow_y": null,
            "padding": null,
            "right": null,
            "top": null,
            "visibility": null,
            "width": null
          }
        },
        "479ca7ecb9444239b1ba7bbff1084e2d": {
          "model_module": "@jupyter-widgets/controls",
          "model_name": "DescriptionStyleModel",
          "model_module_version": "1.5.0",
          "state": {
            "_model_module": "@jupyter-widgets/controls",
            "_model_module_version": "1.5.0",
            "_model_name": "DescriptionStyleModel",
            "_view_count": null,
            "_view_module": "@jupyter-widgets/base",
            "_view_module_version": "1.2.0",
            "_view_name": "StyleView",
            "description_width": ""
          }
        },
        "c111e5d374d748c4b3705c5b0d4ba4f0": {
          "model_module": "@jupyter-widgets/controls",
          "model_name": "HBoxModel",
          "model_module_version": "1.5.0",
          "state": {
            "_dom_classes": [],
            "_model_module": "@jupyter-widgets/controls",
            "_model_module_version": "1.5.0",
            "_model_name": "HBoxModel",
            "_view_count": null,
            "_view_module": "@jupyter-widgets/controls",
            "_view_module_version": "1.5.0",
            "_view_name": "HBoxView",
            "box_style": "",
            "children": [
              "IPY_MODEL_0d62b264c30d4f9cb30d62272b97372d",
              "IPY_MODEL_f910742655c1457b91e5f8b86444c524",
              "IPY_MODEL_d86dd3de93ef419595d9bae56362bed0"
            ],
            "layout": "IPY_MODEL_fb91c0743cea441e9eb3630a9c411133"
          }
        },
        "0d62b264c30d4f9cb30d62272b97372d": {
          "model_module": "@jupyter-widgets/controls",
          "model_name": "HTMLModel",
          "model_module_version": "1.5.0",
          "state": {
            "_dom_classes": [],
            "_model_module": "@jupyter-widgets/controls",
            "_model_module_version": "1.5.0",
            "_model_name": "HTMLModel",
            "_view_count": null,
            "_view_module": "@jupyter-widgets/controls",
            "_view_module_version": "1.5.0",
            "_view_name": "HTMLView",
            "description": "",
            "description_tooltip": null,
            "layout": "IPY_MODEL_1f3b8576fea64cab8e921b94c1457916",
            "placeholder": "​",
            "style": "IPY_MODEL_995b67beb3b74b4fbb8c4d2588385e2a",
            "value": "100%"
          }
        },
        "f910742655c1457b91e5f8b86444c524": {
          "model_module": "@jupyter-widgets/controls",
          "model_name": "FloatProgressModel",
          "model_module_version": "1.5.0",
          "state": {
            "_dom_classes": [],
            "_model_module": "@jupyter-widgets/controls",
            "_model_module_version": "1.5.0",
            "_model_name": "FloatProgressModel",
            "_view_count": null,
            "_view_module": "@jupyter-widgets/controls",
            "_view_module_version": "1.5.0",
            "_view_name": "ProgressView",
            "bar_style": "success",
            "description": "",
            "description_tooltip": null,
            "layout": "IPY_MODEL_8f0f7de849f64cad92ffba49172774c6",
            "max": 28881,
            "min": 0,
            "orientation": "horizontal",
            "style": "IPY_MODEL_c7d3b1f8f7984cb6b484111dd650f374",
            "value": 28881
          }
        },
        "d86dd3de93ef419595d9bae56362bed0": {
          "model_module": "@jupyter-widgets/controls",
          "model_name": "HTMLModel",
          "model_module_version": "1.5.0",
          "state": {
            "_dom_classes": [],
            "_model_module": "@jupyter-widgets/controls",
            "_model_module_version": "1.5.0",
            "_model_name": "HTMLModel",
            "_view_count": null,
            "_view_module": "@jupyter-widgets/controls",
            "_view_module_version": "1.5.0",
            "_view_name": "HTMLView",
            "description": "",
            "description_tooltip": null,
            "layout": "IPY_MODEL_94578685c745468faa3373b59b52de9c",
            "placeholder": "​",
            "style": "IPY_MODEL_64cecbfd773d4651b5f4dbfc3e8e99e8",
            "value": " 28881/28881 [00:00&lt;00:00, 178933.56it/s]"
          }
        },
        "fb91c0743cea441e9eb3630a9c411133": {
          "model_module": "@jupyter-widgets/base",
          "model_name": "LayoutModel",
          "model_module_version": "1.2.0",
          "state": {
            "_model_module": "@jupyter-widgets/base",
            "_model_module_version": "1.2.0",
            "_model_name": "LayoutModel",
            "_view_count": null,
            "_view_module": "@jupyter-widgets/base",
            "_view_module_version": "1.2.0",
            "_view_name": "LayoutView",
            "align_content": null,
            "align_items": null,
            "align_self": null,
            "border": null,
            "bottom": null,
            "display": null,
            "flex": null,
            "flex_flow": null,
            "grid_area": null,
            "grid_auto_columns": null,
            "grid_auto_flow": null,
            "grid_auto_rows": null,
            "grid_column": null,
            "grid_gap": null,
            "grid_row": null,
            "grid_template_areas": null,
            "grid_template_columns": null,
            "grid_template_rows": null,
            "height": null,
            "justify_content": null,
            "justify_items": null,
            "left": null,
            "margin": null,
            "max_height": null,
            "max_width": null,
            "min_height": null,
            "min_width": null,
            "object_fit": null,
            "object_position": null,
            "order": null,
            "overflow": null,
            "overflow_x": null,
            "overflow_y": null,
            "padding": null,
            "right": null,
            "top": null,
            "visibility": null,
            "width": null
          }
        },
        "1f3b8576fea64cab8e921b94c1457916": {
          "model_module": "@jupyter-widgets/base",
          "model_name": "LayoutModel",
          "model_module_version": "1.2.0",
          "state": {
            "_model_module": "@jupyter-widgets/base",
            "_model_module_version": "1.2.0",
            "_model_name": "LayoutModel",
            "_view_count": null,
            "_view_module": "@jupyter-widgets/base",
            "_view_module_version": "1.2.0",
            "_view_name": "LayoutView",
            "align_content": null,
            "align_items": null,
            "align_self": null,
            "border": null,
            "bottom": null,
            "display": null,
            "flex": null,
            "flex_flow": null,
            "grid_area": null,
            "grid_auto_columns": null,
            "grid_auto_flow": null,
            "grid_auto_rows": null,
            "grid_column": null,
            "grid_gap": null,
            "grid_row": null,
            "grid_template_areas": null,
            "grid_template_columns": null,
            "grid_template_rows": null,
            "height": null,
            "justify_content": null,
            "justify_items": null,
            "left": null,
            "margin": null,
            "max_height": null,
            "max_width": null,
            "min_height": null,
            "min_width": null,
            "object_fit": null,
            "object_position": null,
            "order": null,
            "overflow": null,
            "overflow_x": null,
            "overflow_y": null,
            "padding": null,
            "right": null,
            "top": null,
            "visibility": null,
            "width": null
          }
        },
        "995b67beb3b74b4fbb8c4d2588385e2a": {
          "model_module": "@jupyter-widgets/controls",
          "model_name": "DescriptionStyleModel",
          "model_module_version": "1.5.0",
          "state": {
            "_model_module": "@jupyter-widgets/controls",
            "_model_module_version": "1.5.0",
            "_model_name": "DescriptionStyleModel",
            "_view_count": null,
            "_view_module": "@jupyter-widgets/base",
            "_view_module_version": "1.2.0",
            "_view_name": "StyleView",
            "description_width": ""
          }
        },
        "8f0f7de849f64cad92ffba49172774c6": {
          "model_module": "@jupyter-widgets/base",
          "model_name": "LayoutModel",
          "model_module_version": "1.2.0",
          "state": {
            "_model_module": "@jupyter-widgets/base",
            "_model_module_version": "1.2.0",
            "_model_name": "LayoutModel",
            "_view_count": null,
            "_view_module": "@jupyter-widgets/base",
            "_view_module_version": "1.2.0",
            "_view_name": "LayoutView",
            "align_content": null,
            "align_items": null,
            "align_self": null,
            "border": null,
            "bottom": null,
            "display": null,
            "flex": null,
            "flex_flow": null,
            "grid_area": null,
            "grid_auto_columns": null,
            "grid_auto_flow": null,
            "grid_auto_rows": null,
            "grid_column": null,
            "grid_gap": null,
            "grid_row": null,
            "grid_template_areas": null,
            "grid_template_columns": null,
            "grid_template_rows": null,
            "height": null,
            "justify_content": null,
            "justify_items": null,
            "left": null,
            "margin": null,
            "max_height": null,
            "max_width": null,
            "min_height": null,
            "min_width": null,
            "object_fit": null,
            "object_position": null,
            "order": null,
            "overflow": null,
            "overflow_x": null,
            "overflow_y": null,
            "padding": null,
            "right": null,
            "top": null,
            "visibility": null,
            "width": null
          }
        },
        "c7d3b1f8f7984cb6b484111dd650f374": {
          "model_module": "@jupyter-widgets/controls",
          "model_name": "ProgressStyleModel",
          "model_module_version": "1.5.0",
          "state": {
            "_model_module": "@jupyter-widgets/controls",
            "_model_module_version": "1.5.0",
            "_model_name": "ProgressStyleModel",
            "_view_count": null,
            "_view_module": "@jupyter-widgets/base",
            "_view_module_version": "1.2.0",
            "_view_name": "StyleView",
            "bar_color": null,
            "description_width": ""
          }
        },
        "94578685c745468faa3373b59b52de9c": {
          "model_module": "@jupyter-widgets/base",
          "model_name": "LayoutModel",
          "model_module_version": "1.2.0",
          "state": {
            "_model_module": "@jupyter-widgets/base",
            "_model_module_version": "1.2.0",
            "_model_name": "LayoutModel",
            "_view_count": null,
            "_view_module": "@jupyter-widgets/base",
            "_view_module_version": "1.2.0",
            "_view_name": "LayoutView",
            "align_content": null,
            "align_items": null,
            "align_self": null,
            "border": null,
            "bottom": null,
            "display": null,
            "flex": null,
            "flex_flow": null,
            "grid_area": null,
            "grid_auto_columns": null,
            "grid_auto_flow": null,
            "grid_auto_rows": null,
            "grid_column": null,
            "grid_gap": null,
            "grid_row": null,
            "grid_template_areas": null,
            "grid_template_columns": null,
            "grid_template_rows": null,
            "height": null,
            "justify_content": null,
            "justify_items": null,
            "left": null,
            "margin": null,
            "max_height": null,
            "max_width": null,
            "min_height": null,
            "min_width": null,
            "object_fit": null,
            "object_position": null,
            "order": null,
            "overflow": null,
            "overflow_x": null,
            "overflow_y": null,
            "padding": null,
            "right": null,
            "top": null,
            "visibility": null,
            "width": null
          }
        },
        "64cecbfd773d4651b5f4dbfc3e8e99e8": {
          "model_module": "@jupyter-widgets/controls",
          "model_name": "DescriptionStyleModel",
          "model_module_version": "1.5.0",
          "state": {
            "_model_module": "@jupyter-widgets/controls",
            "_model_module_version": "1.5.0",
            "_model_name": "DescriptionStyleModel",
            "_view_count": null,
            "_view_module": "@jupyter-widgets/base",
            "_view_module_version": "1.2.0",
            "_view_name": "StyleView",
            "description_width": ""
          }
        },
        "dac015b46d9042a183539b9be3eebe70": {
          "model_module": "@jupyter-widgets/controls",
          "model_name": "HBoxModel",
          "model_module_version": "1.5.0",
          "state": {
            "_dom_classes": [],
            "_model_module": "@jupyter-widgets/controls",
            "_model_module_version": "1.5.0",
            "_model_name": "HBoxModel",
            "_view_count": null,
            "_view_module": "@jupyter-widgets/controls",
            "_view_module_version": "1.5.0",
            "_view_name": "HBoxView",
            "box_style": "",
            "children": [
              "IPY_MODEL_40d9213e1c58446595e7cf0080545154",
              "IPY_MODEL_44d3a89e5ffb4348bc83e1b1ef6afd06",
              "IPY_MODEL_79410b0b82c84a64996ea50704cb0151"
            ],
            "layout": "IPY_MODEL_d262a87c42cc43a6a302403eace07452"
          }
        },
        "40d9213e1c58446595e7cf0080545154": {
          "model_module": "@jupyter-widgets/controls",
          "model_name": "HTMLModel",
          "model_module_version": "1.5.0",
          "state": {
            "_dom_classes": [],
            "_model_module": "@jupyter-widgets/controls",
            "_model_module_version": "1.5.0",
            "_model_name": "HTMLModel",
            "_view_count": null,
            "_view_module": "@jupyter-widgets/controls",
            "_view_module_version": "1.5.0",
            "_view_name": "HTMLView",
            "description": "",
            "description_tooltip": null,
            "layout": "IPY_MODEL_75db96fcd6c44e7594ee3cafa150fcdc",
            "placeholder": "​",
            "style": "IPY_MODEL_31d65cbbe38a4a5b9e3379d18d4e294c",
            "value": "100%"
          }
        },
        "44d3a89e5ffb4348bc83e1b1ef6afd06": {
          "model_module": "@jupyter-widgets/controls",
          "model_name": "FloatProgressModel",
          "model_module_version": "1.5.0",
          "state": {
            "_dom_classes": [],
            "_model_module": "@jupyter-widgets/controls",
            "_model_module_version": "1.5.0",
            "_model_name": "FloatProgressModel",
            "_view_count": null,
            "_view_module": "@jupyter-widgets/controls",
            "_view_module_version": "1.5.0",
            "_view_name": "ProgressView",
            "bar_style": "success",
            "description": "",
            "description_tooltip": null,
            "layout": "IPY_MODEL_705c348287104669aa989731f412978d",
            "max": 1648877,
            "min": 0,
            "orientation": "horizontal",
            "style": "IPY_MODEL_0a98be4d743947d886966a5924053217",
            "value": 1648877
          }
        },
        "79410b0b82c84a64996ea50704cb0151": {
          "model_module": "@jupyter-widgets/controls",
          "model_name": "HTMLModel",
          "model_module_version": "1.5.0",
          "state": {
            "_dom_classes": [],
            "_model_module": "@jupyter-widgets/controls",
            "_model_module_version": "1.5.0",
            "_model_name": "HTMLModel",
            "_view_count": null,
            "_view_module": "@jupyter-widgets/controls",
            "_view_module_version": "1.5.0",
            "_view_name": "HTMLView",
            "description": "",
            "description_tooltip": null,
            "layout": "IPY_MODEL_4a089b1b58b6490dae3cf3b20838a4e0",
            "placeholder": "​",
            "style": "IPY_MODEL_cbadac6ebfc8494091b6b374e9fec876",
            "value": " 1648877/1648877 [00:00&lt;00:00, 296428.88it/s]"
          }
        },
        "d262a87c42cc43a6a302403eace07452": {
          "model_module": "@jupyter-widgets/base",
          "model_name": "LayoutModel",
          "model_module_version": "1.2.0",
          "state": {
            "_model_module": "@jupyter-widgets/base",
            "_model_module_version": "1.2.0",
            "_model_name": "LayoutModel",
            "_view_count": null,
            "_view_module": "@jupyter-widgets/base",
            "_view_module_version": "1.2.0",
            "_view_name": "LayoutView",
            "align_content": null,
            "align_items": null,
            "align_self": null,
            "border": null,
            "bottom": null,
            "display": null,
            "flex": null,
            "flex_flow": null,
            "grid_area": null,
            "grid_auto_columns": null,
            "grid_auto_flow": null,
            "grid_auto_rows": null,
            "grid_column": null,
            "grid_gap": null,
            "grid_row": null,
            "grid_template_areas": null,
            "grid_template_columns": null,
            "grid_template_rows": null,
            "height": null,
            "justify_content": null,
            "justify_items": null,
            "left": null,
            "margin": null,
            "max_height": null,
            "max_width": null,
            "min_height": null,
            "min_width": null,
            "object_fit": null,
            "object_position": null,
            "order": null,
            "overflow": null,
            "overflow_x": null,
            "overflow_y": null,
            "padding": null,
            "right": null,
            "top": null,
            "visibility": null,
            "width": null
          }
        },
        "75db96fcd6c44e7594ee3cafa150fcdc": {
          "model_module": "@jupyter-widgets/base",
          "model_name": "LayoutModel",
          "model_module_version": "1.2.0",
          "state": {
            "_model_module": "@jupyter-widgets/base",
            "_model_module_version": "1.2.0",
            "_model_name": "LayoutModel",
            "_view_count": null,
            "_view_module": "@jupyter-widgets/base",
            "_view_module_version": "1.2.0",
            "_view_name": "LayoutView",
            "align_content": null,
            "align_items": null,
            "align_self": null,
            "border": null,
            "bottom": null,
            "display": null,
            "flex": null,
            "flex_flow": null,
            "grid_area": null,
            "grid_auto_columns": null,
            "grid_auto_flow": null,
            "grid_auto_rows": null,
            "grid_column": null,
            "grid_gap": null,
            "grid_row": null,
            "grid_template_areas": null,
            "grid_template_columns": null,
            "grid_template_rows": null,
            "height": null,
            "justify_content": null,
            "justify_items": null,
            "left": null,
            "margin": null,
            "max_height": null,
            "max_width": null,
            "min_height": null,
            "min_width": null,
            "object_fit": null,
            "object_position": null,
            "order": null,
            "overflow": null,
            "overflow_x": null,
            "overflow_y": null,
            "padding": null,
            "right": null,
            "top": null,
            "visibility": null,
            "width": null
          }
        },
        "31d65cbbe38a4a5b9e3379d18d4e294c": {
          "model_module": "@jupyter-widgets/controls",
          "model_name": "DescriptionStyleModel",
          "model_module_version": "1.5.0",
          "state": {
            "_model_module": "@jupyter-widgets/controls",
            "_model_module_version": "1.5.0",
            "_model_name": "DescriptionStyleModel",
            "_view_count": null,
            "_view_module": "@jupyter-widgets/base",
            "_view_module_version": "1.2.0",
            "_view_name": "StyleView",
            "description_width": ""
          }
        },
        "705c348287104669aa989731f412978d": {
          "model_module": "@jupyter-widgets/base",
          "model_name": "LayoutModel",
          "model_module_version": "1.2.0",
          "state": {
            "_model_module": "@jupyter-widgets/base",
            "_model_module_version": "1.2.0",
            "_model_name": "LayoutModel",
            "_view_count": null,
            "_view_module": "@jupyter-widgets/base",
            "_view_module_version": "1.2.0",
            "_view_name": "LayoutView",
            "align_content": null,
            "align_items": null,
            "align_self": null,
            "border": null,
            "bottom": null,
            "display": null,
            "flex": null,
            "flex_flow": null,
            "grid_area": null,
            "grid_auto_columns": null,
            "grid_auto_flow": null,
            "grid_auto_rows": null,
            "grid_column": null,
            "grid_gap": null,
            "grid_row": null,
            "grid_template_areas": null,
            "grid_template_columns": null,
            "grid_template_rows": null,
            "height": null,
            "justify_content": null,
            "justify_items": null,
            "left": null,
            "margin": null,
            "max_height": null,
            "max_width": null,
            "min_height": null,
            "min_width": null,
            "object_fit": null,
            "object_position": null,
            "order": null,
            "overflow": null,
            "overflow_x": null,
            "overflow_y": null,
            "padding": null,
            "right": null,
            "top": null,
            "visibility": null,
            "width": null
          }
        },
        "0a98be4d743947d886966a5924053217": {
          "model_module": "@jupyter-widgets/controls",
          "model_name": "ProgressStyleModel",
          "model_module_version": "1.5.0",
          "state": {
            "_model_module": "@jupyter-widgets/controls",
            "_model_module_version": "1.5.0",
            "_model_name": "ProgressStyleModel",
            "_view_count": null,
            "_view_module": "@jupyter-widgets/base",
            "_view_module_version": "1.2.0",
            "_view_name": "StyleView",
            "bar_color": null,
            "description_width": ""
          }
        },
        "4a089b1b58b6490dae3cf3b20838a4e0": {
          "model_module": "@jupyter-widgets/base",
          "model_name": "LayoutModel",
          "model_module_version": "1.2.0",
          "state": {
            "_model_module": "@jupyter-widgets/base",
            "_model_module_version": "1.2.0",
            "_model_name": "LayoutModel",
            "_view_count": null,
            "_view_module": "@jupyter-widgets/base",
            "_view_module_version": "1.2.0",
            "_view_name": "LayoutView",
            "align_content": null,
            "align_items": null,
            "align_self": null,
            "border": null,
            "bottom": null,
            "display": null,
            "flex": null,
            "flex_flow": null,
            "grid_area": null,
            "grid_auto_columns": null,
            "grid_auto_flow": null,
            "grid_auto_rows": null,
            "grid_column": null,
            "grid_gap": null,
            "grid_row": null,
            "grid_template_areas": null,
            "grid_template_columns": null,
            "grid_template_rows": null,
            "height": null,
            "justify_content": null,
            "justify_items": null,
            "left": null,
            "margin": null,
            "max_height": null,
            "max_width": null,
            "min_height": null,
            "min_width": null,
            "object_fit": null,
            "object_position": null,
            "order": null,
            "overflow": null,
            "overflow_x": null,
            "overflow_y": null,
            "padding": null,
            "right": null,
            "top": null,
            "visibility": null,
            "width": null
          }
        },
        "cbadac6ebfc8494091b6b374e9fec876": {
          "model_module": "@jupyter-widgets/controls",
          "model_name": "DescriptionStyleModel",
          "model_module_version": "1.5.0",
          "state": {
            "_model_module": "@jupyter-widgets/controls",
            "_model_module_version": "1.5.0",
            "_model_name": "DescriptionStyleModel",
            "_view_count": null,
            "_view_module": "@jupyter-widgets/base",
            "_view_module_version": "1.2.0",
            "_view_name": "StyleView",
            "description_width": ""
          }
        },
        "bb13bb22646d4e0ead343049ba5d593d": {
          "model_module": "@jupyter-widgets/controls",
          "model_name": "HBoxModel",
          "model_module_version": "1.5.0",
          "state": {
            "_dom_classes": [],
            "_model_module": "@jupyter-widgets/controls",
            "_model_module_version": "1.5.0",
            "_model_name": "HBoxModel",
            "_view_count": null,
            "_view_module": "@jupyter-widgets/controls",
            "_view_module_version": "1.5.0",
            "_view_name": "HBoxView",
            "box_style": "",
            "children": [
              "IPY_MODEL_8dd9a81486014495a30ab4a0406c92f4",
              "IPY_MODEL_8083d4e8b03d45db9c0a2312626c28d0",
              "IPY_MODEL_69e20557eacd44cc9e66b40e6268dc5b"
            ],
            "layout": "IPY_MODEL_35eac0eb1a3c4e7eb49c9399589570e5"
          }
        },
        "8dd9a81486014495a30ab4a0406c92f4": {
          "model_module": "@jupyter-widgets/controls",
          "model_name": "HTMLModel",
          "model_module_version": "1.5.0",
          "state": {
            "_dom_classes": [],
            "_model_module": "@jupyter-widgets/controls",
            "_model_module_version": "1.5.0",
            "_model_name": "HTMLModel",
            "_view_count": null,
            "_view_module": "@jupyter-widgets/controls",
            "_view_module_version": "1.5.0",
            "_view_name": "HTMLView",
            "description": "",
            "description_tooltip": null,
            "layout": "IPY_MODEL_e845ea193324490aa36f10f3654a61b1",
            "placeholder": "​",
            "style": "IPY_MODEL_cb43df00e45847d9b4af75ecf8f94792",
            "value": "100%"
          }
        },
        "8083d4e8b03d45db9c0a2312626c28d0": {
          "model_module": "@jupyter-widgets/controls",
          "model_name": "FloatProgressModel",
          "model_module_version": "1.5.0",
          "state": {
            "_dom_classes": [],
            "_model_module": "@jupyter-widgets/controls",
            "_model_module_version": "1.5.0",
            "_model_name": "FloatProgressModel",
            "_view_count": null,
            "_view_module": "@jupyter-widgets/controls",
            "_view_module_version": "1.5.0",
            "_view_name": "ProgressView",
            "bar_style": "success",
            "description": "",
            "description_tooltip": null,
            "layout": "IPY_MODEL_241461f0256547f7a5c57611af46f503",
            "max": 4542,
            "min": 0,
            "orientation": "horizontal",
            "style": "IPY_MODEL_acd7e286bf0c40f98b61d95992720f6b",
            "value": 4542
          }
        },
        "69e20557eacd44cc9e66b40e6268dc5b": {
          "model_module": "@jupyter-widgets/controls",
          "model_name": "HTMLModel",
          "model_module_version": "1.5.0",
          "state": {
            "_dom_classes": [],
            "_model_module": "@jupyter-widgets/controls",
            "_model_module_version": "1.5.0",
            "_model_name": "HTMLModel",
            "_view_count": null,
            "_view_module": "@jupyter-widgets/controls",
            "_view_module_version": "1.5.0",
            "_view_name": "HTMLView",
            "description": "",
            "description_tooltip": null,
            "layout": "IPY_MODEL_526dbfa965e94e25aa23dd515fab340f",
            "placeholder": "​",
            "style": "IPY_MODEL_5e5e57c5d9d94dc3ae33062a91711462",
            "value": " 4542/4542 [00:00&lt;00:00, 35445.22it/s]"
          }
        },
        "35eac0eb1a3c4e7eb49c9399589570e5": {
          "model_module": "@jupyter-widgets/base",
          "model_name": "LayoutModel",
          "model_module_version": "1.2.0",
          "state": {
            "_model_module": "@jupyter-widgets/base",
            "_model_module_version": "1.2.0",
            "_model_name": "LayoutModel",
            "_view_count": null,
            "_view_module": "@jupyter-widgets/base",
            "_view_module_version": "1.2.0",
            "_view_name": "LayoutView",
            "align_content": null,
            "align_items": null,
            "align_self": null,
            "border": null,
            "bottom": null,
            "display": null,
            "flex": null,
            "flex_flow": null,
            "grid_area": null,
            "grid_auto_columns": null,
            "grid_auto_flow": null,
            "grid_auto_rows": null,
            "grid_column": null,
            "grid_gap": null,
            "grid_row": null,
            "grid_template_areas": null,
            "grid_template_columns": null,
            "grid_template_rows": null,
            "height": null,
            "justify_content": null,
            "justify_items": null,
            "left": null,
            "margin": null,
            "max_height": null,
            "max_width": null,
            "min_height": null,
            "min_width": null,
            "object_fit": null,
            "object_position": null,
            "order": null,
            "overflow": null,
            "overflow_x": null,
            "overflow_y": null,
            "padding": null,
            "right": null,
            "top": null,
            "visibility": null,
            "width": null
          }
        },
        "e845ea193324490aa36f10f3654a61b1": {
          "model_module": "@jupyter-widgets/base",
          "model_name": "LayoutModel",
          "model_module_version": "1.2.0",
          "state": {
            "_model_module": "@jupyter-widgets/base",
            "_model_module_version": "1.2.0",
            "_model_name": "LayoutModel",
            "_view_count": null,
            "_view_module": "@jupyter-widgets/base",
            "_view_module_version": "1.2.0",
            "_view_name": "LayoutView",
            "align_content": null,
            "align_items": null,
            "align_self": null,
            "border": null,
            "bottom": null,
            "display": null,
            "flex": null,
            "flex_flow": null,
            "grid_area": null,
            "grid_auto_columns": null,
            "grid_auto_flow": null,
            "grid_auto_rows": null,
            "grid_column": null,
            "grid_gap": null,
            "grid_row": null,
            "grid_template_areas": null,
            "grid_template_columns": null,
            "grid_template_rows": null,
            "height": null,
            "justify_content": null,
            "justify_items": null,
            "left": null,
            "margin": null,
            "max_height": null,
            "max_width": null,
            "min_height": null,
            "min_width": null,
            "object_fit": null,
            "object_position": null,
            "order": null,
            "overflow": null,
            "overflow_x": null,
            "overflow_y": null,
            "padding": null,
            "right": null,
            "top": null,
            "visibility": null,
            "width": null
          }
        },
        "cb43df00e45847d9b4af75ecf8f94792": {
          "model_module": "@jupyter-widgets/controls",
          "model_name": "DescriptionStyleModel",
          "model_module_version": "1.5.0",
          "state": {
            "_model_module": "@jupyter-widgets/controls",
            "_model_module_version": "1.5.0",
            "_model_name": "DescriptionStyleModel",
            "_view_count": null,
            "_view_module": "@jupyter-widgets/base",
            "_view_module_version": "1.2.0",
            "_view_name": "StyleView",
            "description_width": ""
          }
        },
        "241461f0256547f7a5c57611af46f503": {
          "model_module": "@jupyter-widgets/base",
          "model_name": "LayoutModel",
          "model_module_version": "1.2.0",
          "state": {
            "_model_module": "@jupyter-widgets/base",
            "_model_module_version": "1.2.0",
            "_model_name": "LayoutModel",
            "_view_count": null,
            "_view_module": "@jupyter-widgets/base",
            "_view_module_version": "1.2.0",
            "_view_name": "LayoutView",
            "align_content": null,
            "align_items": null,
            "align_self": null,
            "border": null,
            "bottom": null,
            "display": null,
            "flex": null,
            "flex_flow": null,
            "grid_area": null,
            "grid_auto_columns": null,
            "grid_auto_flow": null,
            "grid_auto_rows": null,
            "grid_column": null,
            "grid_gap": null,
            "grid_row": null,
            "grid_template_areas": null,
            "grid_template_columns": null,
            "grid_template_rows": null,
            "height": null,
            "justify_content": null,
            "justify_items": null,
            "left": null,
            "margin": null,
            "max_height": null,
            "max_width": null,
            "min_height": null,
            "min_width": null,
            "object_fit": null,
            "object_position": null,
            "order": null,
            "overflow": null,
            "overflow_x": null,
            "overflow_y": null,
            "padding": null,
            "right": null,
            "top": null,
            "visibility": null,
            "width": null
          }
        },
        "acd7e286bf0c40f98b61d95992720f6b": {
          "model_module": "@jupyter-widgets/controls",
          "model_name": "ProgressStyleModel",
          "model_module_version": "1.5.0",
          "state": {
            "_model_module": "@jupyter-widgets/controls",
            "_model_module_version": "1.5.0",
            "_model_name": "ProgressStyleModel",
            "_view_count": null,
            "_view_module": "@jupyter-widgets/base",
            "_view_module_version": "1.2.0",
            "_view_name": "StyleView",
            "bar_color": null,
            "description_width": ""
          }
        },
        "526dbfa965e94e25aa23dd515fab340f": {
          "model_module": "@jupyter-widgets/base",
          "model_name": "LayoutModel",
          "model_module_version": "1.2.0",
          "state": {
            "_model_module": "@jupyter-widgets/base",
            "_model_module_version": "1.2.0",
            "_model_name": "LayoutModel",
            "_view_count": null,
            "_view_module": "@jupyter-widgets/base",
            "_view_module_version": "1.2.0",
            "_view_name": "LayoutView",
            "align_content": null,
            "align_items": null,
            "align_self": null,
            "border": null,
            "bottom": null,
            "display": null,
            "flex": null,
            "flex_flow": null,
            "grid_area": null,
            "grid_auto_columns": null,
            "grid_auto_flow": null,
            "grid_auto_rows": null,
            "grid_column": null,
            "grid_gap": null,
            "grid_row": null,
            "grid_template_areas": null,
            "grid_template_columns": null,
            "grid_template_rows": null,
            "height": null,
            "justify_content": null,
            "justify_items": null,
            "left": null,
            "margin": null,
            "max_height": null,
            "max_width": null,
            "min_height": null,
            "min_width": null,
            "object_fit": null,
            "object_position": null,
            "order": null,
            "overflow": null,
            "overflow_x": null,
            "overflow_y": null,
            "padding": null,
            "right": null,
            "top": null,
            "visibility": null,
            "width": null
          }
        },
        "5e5e57c5d9d94dc3ae33062a91711462": {
          "model_module": "@jupyter-widgets/controls",
          "model_name": "DescriptionStyleModel",
          "model_module_version": "1.5.0",
          "state": {
            "_model_module": "@jupyter-widgets/controls",
            "_model_module_version": "1.5.0",
            "_model_name": "DescriptionStyleModel",
            "_view_count": null,
            "_view_module": "@jupyter-widgets/base",
            "_view_module_version": "1.2.0",
            "_view_name": "StyleView",
            "description_width": ""
          }
        }
      }
    }
  },
  "cells": [
    {
      "cell_type": "code",
      "metadata": {
        "colab": {
          "base_uri": "https://localhost:8080/"
        },
        "id": "lQ7xR7YE7bu7",
        "outputId": "f3b28e34-a82b-4d16-fa87-31c9eeb71403"
      },
      "source": [
        "# Import PyTorch\n",
        "import torch\n",
        "\n",
        "# We use torchvision to get our dataset and useful image transformations\n",
        "import torchvision\n",
        "import torchvision.transforms as transforms\n",
        "\n",
        "# Import PyTorch's optimization libary and nn\n",
        "# nn is used as the basic building block for our Network graphs\n",
        "import torch.optim as optim\n",
        "import torch.nn as nn\n",
        "\n",
        "# Are we using our GPU?\n",
        "print(\"GPU available: {}\".format(torch.cuda.is_available()))\n",
        "\n",
        "from torch.autograd import Variable"
      ],
      "execution_count": 1,
      "outputs": [
        {
          "output_type": "stream",
          "name": "stdout",
          "text": [
            "GPU available: True\n"
          ]
        }
      ]
    },
    {
      "cell_type": "markdown",
      "metadata": {
        "id": "eY5T-hmZbYV7"
      },
      "source": [
        "#### If GPU is available set device = ```'cuda'``` if not set device = ```'cpu'```"
      ]
    },
    {
      "cell_type": "code",
      "metadata": {
        "id": "He5tTdH1bTyv"
      },
      "source": [
        "if torch.cuda.is_available():\n",
        "  device = 'cuda' \n",
        "else:\n",
        "  device = 'cpu' "
      ],
      "execution_count": 2,
      "outputs": []
    },
    {
      "cell_type": "code",
      "metadata": {
        "id": "PMa1Aop57iT1"
      },
      "source": [
        "# Transform to a PyTorch tensors and the normalize our valeus between -1 and +1\n",
        "transform = transforms.Compose([transforms.ToTensor(),\n",
        "                               transforms.Normalize((0.5, ), (0.5, )) ])"
      ],
      "execution_count": 3,
      "outputs": []
    },
    {
      "cell_type": "code",
      "metadata": {
        "id": "b4dUgES38D9O",
        "colab": {
          "base_uri": "https://localhost:8080/",
          "height": 430,
          "referenced_widgets": [
            "ae14eaf5b0454f9e8cac79c71e222d30",
            "4236d11521ce4d2381325af5b0e0338a",
            "d48e022a28a44e94bd48b3e93dc349d1",
            "5ce4bd48ce7944008209edddb86048cf",
            "d6814fb30e7a404db6e5906e9e229d93",
            "a275962d2e5c42978c925f52e0d52586",
            "c530dd890cfb4275983b4e938609d39c",
            "be29133338df495ebf75c69e887d14e3",
            "9745dea8b30b42fdb71ca74c86a3cebc",
            "59a6c7e8c0384597a7672f28a2cd5cfa",
            "479ca7ecb9444239b1ba7bbff1084e2d",
            "c111e5d374d748c4b3705c5b0d4ba4f0",
            "0d62b264c30d4f9cb30d62272b97372d",
            "f910742655c1457b91e5f8b86444c524",
            "d86dd3de93ef419595d9bae56362bed0",
            "fb91c0743cea441e9eb3630a9c411133",
            "1f3b8576fea64cab8e921b94c1457916",
            "995b67beb3b74b4fbb8c4d2588385e2a",
            "8f0f7de849f64cad92ffba49172774c6",
            "c7d3b1f8f7984cb6b484111dd650f374",
            "94578685c745468faa3373b59b52de9c",
            "64cecbfd773d4651b5f4dbfc3e8e99e8",
            "dac015b46d9042a183539b9be3eebe70",
            "40d9213e1c58446595e7cf0080545154",
            "44d3a89e5ffb4348bc83e1b1ef6afd06",
            "79410b0b82c84a64996ea50704cb0151",
            "d262a87c42cc43a6a302403eace07452",
            "75db96fcd6c44e7594ee3cafa150fcdc",
            "31d65cbbe38a4a5b9e3379d18d4e294c",
            "705c348287104669aa989731f412978d",
            "0a98be4d743947d886966a5924053217",
            "4a089b1b58b6490dae3cf3b20838a4e0",
            "cbadac6ebfc8494091b6b374e9fec876",
            "bb13bb22646d4e0ead343049ba5d593d",
            "8dd9a81486014495a30ab4a0406c92f4",
            "8083d4e8b03d45db9c0a2312626c28d0",
            "69e20557eacd44cc9e66b40e6268dc5b",
            "35eac0eb1a3c4e7eb49c9399589570e5",
            "e845ea193324490aa36f10f3654a61b1",
            "cb43df00e45847d9b4af75ecf8f94792",
            "241461f0256547f7a5c57611af46f503",
            "acd7e286bf0c40f98b61d95992720f6b",
            "526dbfa965e94e25aa23dd515fab340f",
            "5e5e57c5d9d94dc3ae33062a91711462"
          ]
        },
        "outputId": "3995a9ba-e87c-4958-e76d-b571386ab5a1"
      },
      "source": [
        "# Load our Training Data and specify what transform to use when loading\n",
        "trainset = torchvision.datasets.MNIST('mnist', \n",
        "                                      train = True, \n",
        "                                      download = True,\n",
        "                                      transform = transform)\n",
        "\n",
        "# Load our Test Data and specify what transform to use when loading\n",
        "testset = torchvision.datasets.MNIST('mnist', \n",
        "                                     train = False,\n",
        "                                     download = True,\n",
        "                                     transform = transform)"
      ],
      "execution_count": 4,
      "outputs": [
        {
          "output_type": "stream",
          "name": "stdout",
          "text": [
            "Downloading http://yann.lecun.com/exdb/mnist/train-images-idx3-ubyte.gz\n",
            "Downloading http://yann.lecun.com/exdb/mnist/train-images-idx3-ubyte.gz to mnist/MNIST/raw/train-images-idx3-ubyte.gz\n"
          ]
        },
        {
          "output_type": "display_data",
          "data": {
            "text/plain": [
              "  0%|          | 0/9912422 [00:00<?, ?it/s]"
            ],
            "application/vnd.jupyter.widget-view+json": {
              "version_major": 2,
              "version_minor": 0,
              "model_id": "ae14eaf5b0454f9e8cac79c71e222d30"
            }
          },
          "metadata": {}
        },
        {
          "output_type": "stream",
          "name": "stdout",
          "text": [
            "Extracting mnist/MNIST/raw/train-images-idx3-ubyte.gz to mnist/MNIST/raw\n",
            "\n",
            "Downloading http://yann.lecun.com/exdb/mnist/train-labels-idx1-ubyte.gz\n",
            "Downloading http://yann.lecun.com/exdb/mnist/train-labels-idx1-ubyte.gz to mnist/MNIST/raw/train-labels-idx1-ubyte.gz\n"
          ]
        },
        {
          "output_type": "display_data",
          "data": {
            "text/plain": [
              "  0%|          | 0/28881 [00:00<?, ?it/s]"
            ],
            "application/vnd.jupyter.widget-view+json": {
              "version_major": 2,
              "version_minor": 0,
              "model_id": "c111e5d374d748c4b3705c5b0d4ba4f0"
            }
          },
          "metadata": {}
        },
        {
          "output_type": "stream",
          "name": "stdout",
          "text": [
            "Extracting mnist/MNIST/raw/train-labels-idx1-ubyte.gz to mnist/MNIST/raw\n",
            "\n",
            "Downloading http://yann.lecun.com/exdb/mnist/t10k-images-idx3-ubyte.gz\n",
            "Downloading http://yann.lecun.com/exdb/mnist/t10k-images-idx3-ubyte.gz to mnist/MNIST/raw/t10k-images-idx3-ubyte.gz\n"
          ]
        },
        {
          "output_type": "display_data",
          "data": {
            "text/plain": [
              "  0%|          | 0/1648877 [00:00<?, ?it/s]"
            ],
            "application/vnd.jupyter.widget-view+json": {
              "version_major": 2,
              "version_minor": 0,
              "model_id": "dac015b46d9042a183539b9be3eebe70"
            }
          },
          "metadata": {}
        },
        {
          "output_type": "stream",
          "name": "stdout",
          "text": [
            "Extracting mnist/MNIST/raw/t10k-images-idx3-ubyte.gz to mnist/MNIST/raw\n",
            "\n",
            "Downloading http://yann.lecun.com/exdb/mnist/t10k-labels-idx1-ubyte.gz\n",
            "Downloading http://yann.lecun.com/exdb/mnist/t10k-labels-idx1-ubyte.gz to mnist/MNIST/raw/t10k-labels-idx1-ubyte.gz\n"
          ]
        },
        {
          "output_type": "display_data",
          "data": {
            "text/plain": [
              "  0%|          | 0/4542 [00:00<?, ?it/s]"
            ],
            "application/vnd.jupyter.widget-view+json": {
              "version_major": 2,
              "version_minor": 0,
              "model_id": "bb13bb22646d4e0ead343049ba5d593d"
            }
          },
          "metadata": {}
        },
        {
          "output_type": "stream",
          "name": "stdout",
          "text": [
            "Extracting mnist/MNIST/raw/t10k-labels-idx1-ubyte.gz to mnist/MNIST/raw\n",
            "\n"
          ]
        }
      ]
    },
    {
      "cell_type": "markdown",
      "metadata": {
        "id": "D3wZ2CLq6ZHc"
      },
      "source": [
        "\n",
        "Let's inspect our training and test dataset dimensions."
      ]
    },
    {
      "cell_type": "code",
      "metadata": {
        "colab": {
          "base_uri": "https://localhost:8080/"
        },
        "id": "CsM1ea3W8KZm",
        "outputId": "5c8d3a94-910b-4fbf-ba1e-cf7e7cc85aaa"
      },
      "source": [
        "print(trainset.data.shape)\n",
        "print(testset.data.shape)"
      ],
      "execution_count": 5,
      "outputs": [
        {
          "output_type": "stream",
          "name": "stdout",
          "text": [
            "torch.Size([60000, 28, 28])\n",
            "torch.Size([10000, 28, 28])\n"
          ]
        }
      ]
    },
    {
      "cell_type": "code",
      "metadata": {
        "colab": {
          "base_uri": "https://localhost:8080/",
          "height": 411
        },
        "id": "Jt5cO4d-AhoT",
        "outputId": "f0cb2949-128b-49ad-e1f0-578c7fce727f"
      },
      "source": [
        "import cv2\n",
        "import numpy as np\n",
        "from matplotlib import pyplot as plt\n",
        "\n",
        "# Define our imshow function \n",
        "def imgshow(title=\"\", image = None, size = 6):\n",
        "    w, h = image.shape[0], image.shape[1]\n",
        "    aspect_ratio = w/h\n",
        "    plt.figure(figsize=(size * aspect_ratio,size))\n",
        "    plt.imshow(cv2.cvtColor(image, cv2.COLOR_BGR2RGB))\n",
        "    plt.title(title)\n",
        "    plt.show()\n",
        "\n",
        "# Convert image to a numpy array\n",
        "image = trainset.data[0].numpy()\n",
        "imgshow(\"MNIST Sample\", image)"
      ],
      "execution_count": 5,
      "outputs": [
        {
          "output_type": "display_data",
          "data": {
            "text/plain": [
              "<Figure size 432x432 with 1 Axes>"
            ],
            "image/png": "[encoded data removed]"
          },
          "metadata": {
            "needs_background": "light"
          }
        }
      ]
    },
    {
      "cell_type": "code",
      "metadata": {
        "colab": {
          "base_uri": "https://localhost:8080/",
          "height": 260
        },
        "id": "TYvR5TrM8Ijz",
        "outputId": "e46e3391-5255-4c3d-dc65-e8f12f2e981d"
      },
      "source": [
        "import matplotlib.pyplot as plt\n",
        "\n",
        "figure = plt.figure()\n",
        "num_of_images = 50 \n",
        "\n",
        "for index in range(1, num_of_images + 1):\n",
        "    plt.subplot(5, 10, index)\n",
        "    plt.axis('off')\n",
        "    plt.imshow(trainset.data[index])"
      ],
      "execution_count": 6,
      "outputs": [
        {
          "output_type": "display_data",
          "data": {
            "text/plain": [
              "<Figure size 432x288 with 50 Axes>"
            ],
            "image/png": "[encoded data removed]"
          },
          "metadata": {
            "needs_background": "light"
          }
        }
      ]
    },
    {
      "cell_type": "code",
      "metadata": {
        "id": "xZQLsinK8GWO"
      },
      "source": [
        "# Prepare train and test loader\n",
        "trainloader = torch.utils.data.DataLoader(trainset,\n",
        "                                           batch_size = 128,\n",
        "                                           shuffle = True,\n",
        "                                           num_workers = 0)\n",
        "\n",
        "testloader = torch.utils.data.DataLoader(testset,\n",
        "                                          batch_size = 128,\n",
        "                                          shuffle = False,\n",
        "                                          num_workers = 0)"
      ],
      "execution_count": 7,
      "outputs": []
    },
    {
      "cell_type": "code",
      "metadata": {
        "colab": {
          "base_uri": "https://localhost:8080/"
        },
        "id": "h37P4Zr78VfI",
        "outputId": "67930af1-cfb0-4844-e285-5c6a8b22fc21"
      },
      "source": [
        "dataiter = iter(trainloader)\n",
        "\n",
        "images, labels = dataiter.next()\n",
        "\n",
        "print(images.shape)\n",
        "print(labels.shape)"
      ],
      "execution_count": 8,
      "outputs": [
        {
          "output_type": "stream",
          "name": "stdout",
          "text": [
            "torch.Size([128, 1, 28, 28])\n",
            "torch.Size([128])\n"
          ]
        }
      ]
    },
    {
      "cell_type": "code",
      "metadata": {
        "id": "w3KQCw21EcoU",
        "colab": {
          "base_uri": "https://localhost:8080/"
        },
        "outputId": "90cdf2e9-cc68-4917-9ec7-8cab4d0f1d25"
      },
      "source": [
        "import torch.nn as nn\n",
        "import torch.nn.functional as F\n",
        "\n",
        "class Net(nn.Module):\n",
        "    def __init__(self):\n",
        "        super(Net, self).__init__()\n",
        "        self.conv1 = nn.Conv2d(1, 32, 3)\n",
        "        self.conv2 = nn.Conv2d(32, 64, 3)\n",
        "        self.pool = nn.MaxPool2d(2, 2)\n",
        "        self.fc1 = nn.Linear(64 * 12 * 12, 128)\n",
        "        self.fc2 = nn.Linear(128, 10)\n",
        "\n",
        "    def forward(self, x):\n",
        "        x = F.relu(self.conv1(x))\n",
        "        x = self.pool(F.relu(self.conv2(x)))\n",
        "        x = x.view(-1, 64 * 12 * 12)\n",
        "        x = F.relu(self.fc1(x))\n",
        "        x = self.fc2(x)\n",
        "        return x\n",
        "\n",
        "net = Net()\n",
        "net.to(device)"
      ],
      "execution_count": 9,
      "outputs": [
        {
          "output_type": "execute_result",
          "data": {
            "text/plain": [
              "Net(\n",
              "  (conv1): Conv2d(1, 32, kernel_size=(3, 3), stride=(1, 1))\n",
              "  (conv2): Conv2d(32, 64, kernel_size=(3, 3), stride=(1, 1))\n",
              "  (pool): MaxPool2d(kernel_size=2, stride=2, padding=0, dilation=1, ceil_mode=False)\n",
              "  (fc1): Linear(in_features=9216, out_features=128, bias=True)\n",
              "  (fc2): Linear(in_features=128, out_features=10, bias=True)\n",
              ")"
            ]
          },
          "metadata": {},
          "execution_count": 9
        }
      ]
    },
    {
      "cell_type": "code",
      "metadata": {
        "id": "rp-MjS9MQU2r"
      },
      "source": [
        "# We import our optimizer function\n",
        "import torch.optim as optim\n",
        "\n",
        "# We use Cross Entropy Loss as our loss function\n",
        "criterion = nn.CrossEntropyLoss()\n",
        "\n",
        "# For our gradient descent algorthim or Optimizer\n",
        "# We use Stochastic Gradient Descent (SGD) with a learning rate of 0.001\n",
        "# We set the momentum to be 0.9\n",
        "optimizer = optim.SGD(net.parameters(), lr=0.001, momentum=0.9)\n",
        "#optimizer = optim.Adam(net.parameters())"
      ],
      "execution_count": 10,
      "outputs": []
    },
    {
      "cell_type": "code",
      "metadata": {
        "colab": {
          "base_uri": "https://localhost:8080/"
        },
        "id": "1f3SyLTnQXpd",
        "outputId": "4de98374-c6d5-4407-a912-c40fc37d030b"
      },
      "source": [
        "# We loop over the traing dataset multiple times (each time is called an epoch)\n",
        "epochs = 10\n",
        "\n",
        "# Create some empty arrays to store logs \n",
        "epoch_log = []\n",
        "loss_log = []\n",
        "accuracy_log = []\n",
        "\n",
        "# Iterate for a specified number of epochs\n",
        "for epoch in range(epochs):  \n",
        "    print(f'Starting Epoch: {epoch+1}...')\n",
        "\n",
        "    # We keep adding or accumulating our loss after each mini-batch in running_loss\n",
        "    running_loss = 0.0\n",
        "\n",
        "    # We iterate through our trainloader iterator\n",
        "    # Each cycle is a minibatch\n",
        "    for i, data in enumerate(trainloader, 0):\n",
        "        # get the inputs; data is a list of [inputs, labels]\n",
        "        inputs, labels = data\n",
        "\n",
        "        # Move our data to GPU\n",
        "        inputs = inputs.to(device)\n",
        "        labels = labels.to(device)\n",
        "\n",
        "        #inputs = Variable(inputs.view(1,3,128,32,32))\n",
        "\n",
        "        # Clear the gradients before training by setting to zero\n",
        "        # Required for a fresh start\n",
        "        optimizer.zero_grad()\n",
        "\n",
        "        # Forward -> backprop + optimize\n",
        "        outputs = net(inputs) # Forward Propagation \n",
        "        loss = criterion(outputs, labels) # Get Loss (quantify the difference between the results and predictions)\n",
        "        loss.backward() # Back propagate to obtain the new gradients for all nodes\n",
        "        optimizer.step() # Update the gradients/weights\n",
        "\n",
        "        # Print Training statistics - Epoch/Iterations/Loss/Accuracy\n",
        "        running_loss += loss.item()\n",
        "        if i % 50 == 49:    # show our loss every 50 mini-batches\n",
        "            correct = 0 # Initialize our variable to hold the count for the correct predictions\n",
        "            total = 0 # Initialize our variable to hold the count of the number of labels iterated\n",
        "\n",
        "            # We don't need gradients for validation, so wrap in \n",
        "            # no_grad to save memory\n",
        "            with torch.no_grad():\n",
        "                # Iterate through the testloader iterator\n",
        "                for data in testloader:\n",
        "                    images, labels = data\n",
        "                    # Move our data to GPU\n",
        "                    images = images.to(device)\n",
        "                    labels = labels.to(device)\n",
        "                    \n",
        "                    # Foward propagate our test data batch through our model\n",
        "                    outputs = net(images)\n",
        "\n",
        "                     # Get predictions from the maximum value of the predicted output tensor\n",
        "                     # we set dim = 1 as it specifies the number of dimensions to reduce\n",
        "                    _, predicted = torch.max(outputs.data, dim = 1)\n",
        "                    # Keep adding the label size or length to the total variable\n",
        "                    total += labels.size(0)\n",
        "                    # Keep a running total of the number of predictions predicted correctly\n",
        "                    correct += (predicted == labels).sum().item()\n",
        "\n",
        "                accuracy = 100 * correct / total\n",
        "                epoch_num = epoch + 1\n",
        "                actual_loss = running_loss / 50\n",
        "                print(f'Epoch: {epoch_num}, Mini-Batches Completed: {(i+1)}, Loss: {actual_loss:.3f}, Test Accuracy = {accuracy:.3f}%')\n",
        "                running_loss = 0.0\n",
        "\n",
        "    # Store training stats after each epoch\n",
        "    epoch_log.append(epoch_num)\n",
        "    loss_log.append(actual_loss)\n",
        "    accuracy_log.append(accuracy)\n",
        "\n",
        "print('Finished Training')"
      ],
      "execution_count": 11,
      "outputs": [
        {
          "output_type": "stream",
          "name": "stdout",
          "text": [
            "Starting Epoch: 1...\n",
            "Epoch: 1, Mini-Batches Completed: 50, Loss: 2.258, Test Accuracy = 43.410%\n",
            "Epoch: 1, Mini-Batches Completed: 100, Loss: 2.080, Test Accuracy = 70.200%\n",
            "Epoch: 1, Mini-Batches Completed: 150, Loss: 1.583, Test Accuracy = 77.200%\n",
            "Epoch: 1, Mini-Batches Completed: 200, Loss: 0.852, Test Accuracy = 83.530%\n",
            "Epoch: 1, Mini-Batches Completed: 250, Loss: 0.551, Test Accuracy = 87.050%\n",
            "Epoch: 1, Mini-Batches Completed: 300, Loss: 0.454, Test Accuracy = 88.570%\n",
            "Epoch: 1, Mini-Batches Completed: 350, Loss: 0.409, Test Accuracy = 89.480%\n",
            "Epoch: 1, Mini-Batches Completed: 400, Loss: 0.398, Test Accuracy = 88.840%\n",
            "Epoch: 1, Mini-Batches Completed: 450, Loss: 0.373, Test Accuracy = 90.090%\n",
            "Starting Epoch: 2...\n",
            "Epoch: 2, Mini-Batches Completed: 50, Loss: 0.339, Test Accuracy = 90.280%\n",
            "Epoch: 2, Mini-Batches Completed: 100, Loss: 0.322, Test Accuracy = 91.060%\n",
            "Epoch: 2, Mini-Batches Completed: 150, Loss: 0.340, Test Accuracy = 91.520%\n",
            "Epoch: 2, Mini-Batches Completed: 200, Loss: 0.304, Test Accuracy = 91.310%\n",
            "Epoch: 2, Mini-Batches Completed: 250, Loss: 0.299, Test Accuracy = 91.300%\n",
            "Epoch: 2, Mini-Batches Completed: 300, Loss: 0.307, Test Accuracy = 91.940%\n",
            "Epoch: 2, Mini-Batches Completed: 350, Loss: 0.305, Test Accuracy = 92.150%\n",
            "Epoch: 2, Mini-Batches Completed: 400, Loss: 0.273, Test Accuracy = 92.290%\n",
            "Epoch: 2, Mini-Batches Completed: 450, Loss: 0.285, Test Accuracy = 92.330%\n",
            "Starting Epoch: 3...\n",
            "Epoch: 3, Mini-Batches Completed: 50, Loss: 0.265, Test Accuracy = 92.260%\n",
            "Epoch: 3, Mini-Batches Completed: 100, Loss: 0.270, Test Accuracy = 92.900%\n",
            "Epoch: 3, Mini-Batches Completed: 150, Loss: 0.265, Test Accuracy = 93.270%\n",
            "Epoch: 3, Mini-Batches Completed: 200, Loss: 0.247, Test Accuracy = 93.200%\n",
            "Epoch: 3, Mini-Batches Completed: 250, Loss: 0.248, Test Accuracy = 93.130%\n",
            "Epoch: 3, Mini-Batches Completed: 300, Loss: 0.223, Test Accuracy = 93.680%\n",
            "Epoch: 3, Mini-Batches Completed: 350, Loss: 0.238, Test Accuracy = 93.460%\n",
            "Epoch: 3, Mini-Batches Completed: 400, Loss: 0.228, Test Accuracy = 93.640%\n",
            "Epoch: 3, Mini-Batches Completed: 450, Loss: 0.214, Test Accuracy = 93.890%\n",
            "Starting Epoch: 4...\n",
            "Epoch: 4, Mini-Batches Completed: 50, Loss: 0.208, Test Accuracy = 94.370%\n",
            "Epoch: 4, Mini-Batches Completed: 100, Loss: 0.209, Test Accuracy = 94.360%\n",
            "Epoch: 4, Mini-Batches Completed: 150, Loss: 0.189, Test Accuracy = 94.390%\n",
            "Epoch: 4, Mini-Batches Completed: 200, Loss: 0.200, Test Accuracy = 94.580%\n",
            "Epoch: 4, Mini-Batches Completed: 250, Loss: 0.184, Test Accuracy = 94.600%\n",
            "Epoch: 4, Mini-Batches Completed: 300, Loss: 0.183, Test Accuracy = 94.840%\n",
            "Epoch: 4, Mini-Batches Completed: 350, Loss: 0.192, Test Accuracy = 95.060%\n",
            "Epoch: 4, Mini-Batches Completed: 400, Loss: 0.178, Test Accuracy = 95.140%\n",
            "Epoch: 4, Mini-Batches Completed: 450, Loss: 0.174, Test Accuracy = 95.170%\n",
            "Starting Epoch: 5...\n",
            "Epoch: 5, Mini-Batches Completed: 50, Loss: 0.159, Test Accuracy = 95.380%\n",
            "Epoch: 5, Mini-Batches Completed: 100, Loss: 0.158, Test Accuracy = 95.540%\n",
            "Epoch: 5, Mini-Batches Completed: 150, Loss: 0.163, Test Accuracy = 95.430%\n",
            "Epoch: 5, Mini-Batches Completed: 200, Loss: 0.158, Test Accuracy = 95.450%\n",
            "Epoch: 5, Mini-Batches Completed: 250, Loss: 0.150, Test Accuracy = 95.790%\n",
            "Epoch: 5, Mini-Batches Completed: 300, Loss: 0.144, Test Accuracy = 95.650%\n",
            "Epoch: 5, Mini-Batches Completed: 350, Loss: 0.148, Test Accuracy = 96.020%\n",
            "Epoch: 5, Mini-Batches Completed: 400, Loss: 0.139, Test Accuracy = 96.170%\n",
            "Epoch: 5, Mini-Batches Completed: 450, Loss: 0.135, Test Accuracy = 96.150%\n",
            "Starting Epoch: 6...\n",
            "Epoch: 6, Mini-Batches Completed: 50, Loss: 0.130, Test Accuracy = 96.320%\n",
            "Epoch: 6, Mini-Batches Completed: 100, Loss: 0.124, Test Accuracy = 96.150%\n",
            "Epoch: 6, Mini-Batches Completed: 150, Loss: 0.126, Test Accuracy = 96.280%\n",
            "Epoch: 6, Mini-Batches Completed: 200, Loss: 0.125, Test Accuracy = 96.500%\n",
            "Epoch: 6, Mini-Batches Completed: 250, Loss: 0.132, Test Accuracy = 96.630%\n",
            "Epoch: 6, Mini-Batches Completed: 300, Loss: 0.123, Test Accuracy = 96.680%\n",
            "Epoch: 6, Mini-Batches Completed: 350, Loss: 0.127, Test Accuracy = 96.730%\n",
            "Epoch: 6, Mini-Batches Completed: 400, Loss: 0.112, Test Accuracy = 96.710%\n",
            "Epoch: 6, Mini-Batches Completed: 450, Loss: 0.114, Test Accuracy = 96.950%\n",
            "Starting Epoch: 7...\n",
            "Epoch: 7, Mini-Batches Completed: 50, Loss: 0.110, Test Accuracy = 96.940%\n",
            "Epoch: 7, Mini-Batches Completed: 100, Loss: 0.108, Test Accuracy = 96.940%\n",
            "Epoch: 7, Mini-Batches Completed: 150, Loss: 0.107, Test Accuracy = 97.090%\n",
            "Epoch: 7, Mini-Batches Completed: 200, Loss: 0.106, Test Accuracy = 96.980%\n",
            "Epoch: 7, Mini-Batches Completed: 250, Loss: 0.101, Test Accuracy = 97.110%\n",
            "Epoch: 7, Mini-Batches Completed: 300, Loss: 0.108, Test Accuracy = 97.120%\n",
            "Epoch: 7, Mini-Batches Completed: 350, Loss: 0.093, Test Accuracy = 97.140%\n",
            "Epoch: 7, Mini-Batches Completed: 400, Loss: 0.107, Test Accuracy = 97.330%\n",
            "Epoch: 7, Mini-Batches Completed: 450, Loss: 0.089, Test Accuracy = 97.260%\n",
            "Starting Epoch: 8...\n",
            "Epoch: 8, Mini-Batches Completed: 50, Loss: 0.085, Test Accuracy = 97.350%\n",
            "Epoch: 8, Mini-Batches Completed: 100, Loss: 0.090, Test Accuracy = 97.520%\n",
            "Epoch: 8, Mini-Batches Completed: 150, Loss: 0.089, Test Accuracy = 97.330%\n",
            "Epoch: 8, Mini-Batches Completed: 200, Loss: 0.088, Test Accuracy = 97.610%\n",
            "Epoch: 8, Mini-Batches Completed: 250, Loss: 0.095, Test Accuracy = 97.460%\n",
            "Epoch: 8, Mini-Batches Completed: 300, Loss: 0.101, Test Accuracy = 97.470%\n",
            "Epoch: 8, Mini-Batches Completed: 350, Loss: 0.085, Test Accuracy = 97.280%\n",
            "Epoch: 8, Mini-Batches Completed: 400, Loss: 0.086, Test Accuracy = 97.460%\n",
            "Epoch: 8, Mini-Batches Completed: 450, Loss: 0.083, Test Accuracy = 97.410%\n",
            "Starting Epoch: 9...\n",
            "Epoch: 9, Mini-Batches Completed: 50, Loss: 0.083, Test Accuracy = 97.390%\n",
            "Epoch: 9, Mini-Batches Completed: 100, Loss: 0.073, Test Accuracy = 97.560%\n",
            "Epoch: 9, Mini-Batches Completed: 150, Loss: 0.081, Test Accuracy = 97.580%\n",
            "Epoch: 9, Mini-Batches Completed: 200, Loss: 0.092, Test Accuracy = 97.540%\n",
            "Epoch: 9, Mini-Batches Completed: 250, Loss: 0.081, Test Accuracy = 97.840%\n",
            "Epoch: 9, Mini-Batches Completed: 300, Loss: 0.072, Test Accuracy = 97.750%\n",
            "Epoch: 9, Mini-Batches Completed: 350, Loss: 0.077, Test Accuracy = 97.800%\n",
            "Epoch: 9, Mini-Batches Completed: 400, Loss: 0.067, Test Accuracy = 97.520%\n",
            "Epoch: 9, Mini-Batches Completed: 450, Loss: 0.081, Test Accuracy = 97.630%\n",
            "Starting Epoch: 10...\n",
            "Epoch: 10, Mini-Batches Completed: 50, Loss: 0.074, Test Accuracy = 97.830%\n",
            "Epoch: 10, Mini-Batches Completed: 100, Loss: 0.072, Test Accuracy = 97.830%\n",
            "Epoch: 10, Mini-Batches Completed: 150, Loss: 0.077, Test Accuracy = 97.740%\n",
            "Epoch: 10, Mini-Batches Completed: 200, Loss: 0.077, Test Accuracy = 97.800%\n",
            "Epoch: 10, Mini-Batches Completed: 250, Loss: 0.066, Test Accuracy = 97.950%\n",
            "Epoch: 10, Mini-Batches Completed: 300, Loss: 0.072, Test Accuracy = 97.780%\n",
            "Epoch: 10, Mini-Batches Completed: 350, Loss: 0.069, Test Accuracy = 97.840%\n",
            "Epoch: 10, Mini-Batches Completed: 400, Loss: 0.065, Test Accuracy = 97.920%\n",
            "Epoch: 10, Mini-Batches Completed: 450, Loss: 0.066, Test Accuracy = 97.920%\n",
            "Finished Training\n"
          ]
        }
      ]
    },
    {
      "cell_type": "markdown",
      "metadata": {
        "id": "D111_mY25sG9"
      },
      "source": [
        "## **10. Plotting our Training Logs**\n",
        "\n",
        "\n",
        "```\n",
        "# Create some empty arrays to store logs \n",
        "epoch_log = []\n",
        "loss_log = []\n",
        "accuracy_log = []\n",
        "```\n",
        "\n"
      ]
    },
    {
      "cell_type": "code",
      "metadata": {
        "id": "UsASSgL15jY0",
        "colab": {
          "base_uri": "https://localhost:8080/",
          "height": 322
        },
        "outputId": "2bfd1fe2-115c-4859-8058-26b14cc790c1"
      },
      "source": [
        "# To create a plot with secondary y-axis we need to create a subplot\n",
        "fig, ax1 = plt.subplots()\n",
        "\n",
        "# Set title and x-axis label rotation\n",
        "plt.title(\"Accuracy & Loss vs Epoch\")\n",
        "plt.xticks(rotation=45)\n",
        "\n",
        "# We use twinx to create a plot a secondary y axis\n",
        "ax2 = ax1.twinx()\n",
        "\n",
        "# Create plot for loss_log and accuracy_log\n",
        "ax1.plot(epoch_log, loss_log, 'g-')\n",
        "ax2.plot(epoch_log, accuracy_log, 'b-')\n",
        "\n",
        "# Set labels\n",
        "ax1.set_xlabel('Epochs')\n",
        "ax1.set_ylabel('Loss', color='g')\n",
        "ax2.set_ylabel('Test Accuracy', color='b')\n",
        "\n",
        "plt.show()"
      ],
      "execution_count": 12,
      "outputs": [
        {
          "output_type": "display_data",
          "data": {
            "text/plain": [
              "<Figure size 432x288 with 2 Axes>"
            ],
            "image/png": "[encoded data removed]"
          },
          "metadata": {
            "needs_background": "light"
          }
        }
      ]
    },
    {
      "cell_type": "code",
      "metadata": {
        "colab": {
          "base_uri": "https://localhost:8080/"
        },
        "id": "4a2a6KjuVfcb",
        "outputId": "436eb31f-d7c2-48e3-f0ee-b9e9a8518da4"
      },
      "source": [
        "nb_classes = 10\n",
        "\n",
        "confusion_matrix = torch.zeros(nb_classes, nb_classes)\n",
        "\n",
        "with torch.no_grad():\n",
        "    for i, (inputs, classes) in enumerate(testloader):\n",
        "        inputs = inputs.to(device)\n",
        "        classes = classes.to(device)\n",
        "        outputs = net(inputs)\n",
        "        _, preds = torch.max(outputs, 1)\n",
        "        for t, p in zip(classes.view(-1), preds.view(-1)):\n",
        "                confusion_matrix[t.long(), p.long()] += 1\n",
        "\n",
        "print(confusion_matrix)"
      ],
      "execution_count": 13,
      "outputs": [
        {
          "output_type": "stream",
          "name": "stdout",
          "text": [
            "tensor([[9.7100e+02, 0.0000e+00, 1.0000e+00, 0.0000e+00, 0.0000e+00, 0.0000e+00,\n",
            "         2.0000e+00, 1.0000e+00, 4.0000e+00, 1.0000e+00],\n",
            "        [0.0000e+00, 1.1270e+03, 3.0000e+00, 0.0000e+00, 0.0000e+00, 0.0000e+00,\n",
            "         2.0000e+00, 0.0000e+00, 3.0000e+00, 0.0000e+00],\n",
            "        [5.0000e+00, 3.0000e+00, 9.9800e+02, 4.0000e+00, 2.0000e+00, 0.0000e+00,\n",
            "         2.0000e+00, 6.0000e+00, 1.2000e+01, 0.0000e+00],\n",
            "        [0.0000e+00, 0.0000e+00, 2.0000e+00, 9.8000e+02, 0.0000e+00, 9.0000e+00,\n",
            "         0.0000e+00, 6.0000e+00, 1.2000e+01, 1.0000e+00],\n",
            "        [0.0000e+00, 0.0000e+00, 0.0000e+00, 0.0000e+00, 9.6400e+02, 0.0000e+00,\n",
            "         6.0000e+00, 3.0000e+00, 2.0000e+00, 7.0000e+00],\n",
            "        [4.0000e+00, 1.0000e+00, 0.0000e+00, 2.0000e+00, 0.0000e+00, 8.7400e+02,\n",
            "         5.0000e+00, 1.0000e+00, 4.0000e+00, 1.0000e+00],\n",
            "        [6.0000e+00, 3.0000e+00, 0.0000e+00, 0.0000e+00, 2.0000e+00, 2.0000e+00,\n",
            "         9.3900e+02, 0.0000e+00, 6.0000e+00, 0.0000e+00],\n",
            "        [2.0000e+00, 4.0000e+00, 9.0000e+00, 2.0000e+00, 0.0000e+00, 0.0000e+00,\n",
            "         0.0000e+00, 1.0030e+03, 4.0000e+00, 4.0000e+00],\n",
            "        [6.0000e+00, 0.0000e+00, 1.0000e+00, 0.0000e+00, 2.0000e+00, 0.0000e+00,\n",
            "         1.0000e+00, 3.0000e+00, 9.6000e+02, 1.0000e+00],\n",
            "        [4.0000e+00, 6.0000e+00, 0.0000e+00, 3.0000e+00, 4.0000e+00, 1.0000e+00,\n",
            "         1.0000e+00, 1.1000e+01, 1.0000e+01, 9.6900e+02]])\n"
          ]
        }
      ]
    },
    {
      "cell_type": "code",
      "metadata": {
        "colab": {
          "base_uri": "https://localhost:8080/"
        },
        "id": "CTOCRWN3N71p",
        "outputId": "50e838c6-4962-41df-e8d4-55b250078d0c"
      },
      "source": [
        "print(confusion_matrix.diag()/confusion_matrix.sum(1))"
      ],
      "execution_count": 14,
      "outputs": [
        {
          "output_type": "stream",
          "name": "stdout",
          "text": [
            "tensor([0.9908, 0.9930, 0.9671, 0.9703, 0.9817, 0.9798, 0.9802, 0.9757, 0.9856,\n",
            "        0.9604])\n"
          ]
        }
      ]
    },
    {
      "cell_type": "code",
      "metadata": {
        "colab": {
          "base_uri": "https://localhost:8080/"
        },
        "id": "qpJ2nsxlOCZq",
        "outputId": "aefbdc0e-700a-4001-86f1-9f418bd89e80"
      },
      "source": [
        "from sklearn.metrics import confusion_matrix\n",
        "\n",
        "nb_classes = 10\n",
        "\n",
        "# Initialize the prediction and label lists(tensors)\n",
        "predlist=torch.zeros(0,dtype=torch.long, device='cpu')\n",
        "lbllist=torch.zeros(0,dtype=torch.long, device='cpu')\n",
        "\n",
        "with torch.no_grad():\n",
        "    for i, (inputs, classes) in enumerate(testloader):\n",
        "        inputs = inputs.to(device)\n",
        "        classes = classes.to(device)\n",
        "        outputs = net(inputs)\n",
        "        _, preds = torch.max(outputs, 1)\n",
        "\n",
        "        # Append batch prediction results\n",
        "        predlist=torch.cat([predlist,preds.view(-1).cpu()])\n",
        "        lbllist=torch.cat([lbllist,classes.view(-1).cpu()])\n",
        "\n",
        "# Confusion matrix\n",
        "conf_mat=confusion_matrix(lbllist.numpy(), predlist.numpy())\n",
        "print(conf_mat)\n",
        "\n",
        "# Per-class accuracy\n",
        "class_accuracy=100*conf_mat.diagonal()/conf_mat.sum(1)\n",
        "print(class_accuracy)"
      ],
      "execution_count": 15,
      "outputs": [
        {
          "output_type": "stream",
          "name": "stdout",
          "text": [
            "[[ 971    0    1    0    0    0    2    1    4    1]\n",
            " [   0 1127    3    0    0    0    2    0    3    0]\n",
            " [   5    3  998    4    2    0    2    6   12    0]\n",
            " [   0    0    2  980    0    9    0    6   12    1]\n",
            " [   0    0    0    0  964    0    6    3    2    7]\n",
            " [   4    1    0    2    0  874    5    1    4    1]\n",
            " [   6    3    0    0    2    2  939    0    6    0]\n",
            " [   2    4    9    2    0    0    0 1003    4    4]\n",
            " [   6    0    1    0    2    0    1    3  960    1]\n",
            " [   4    6    0    3    4    1    1   11   10  969]]\n",
            "[99.08163265 99.29515419 96.70542636 97.02970297 98.16700611 97.98206278\n",
            " 98.01670146 97.56809339 98.56262834 96.03567889]\n"
          ]
        }
      ]
    }
  ]
}